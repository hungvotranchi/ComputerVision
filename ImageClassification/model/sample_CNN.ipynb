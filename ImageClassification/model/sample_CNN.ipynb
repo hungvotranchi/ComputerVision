{
 "cells": [
  {
   "cell_type": "code",
   "execution_count": 1,
   "metadata": {},
   "outputs": [],
   "source": [
    "import torch\n",
    "import torchvision\n",
    "import torch.optim as optim\n",
    "import torch.nn as nn\n",
    "\n",
    "\n",
    "import sys\n",
    "sys.path.append(\"..\")\n",
    "from src.load_data import load_CIFAR10\n",
    "from src.preprocess import transform_CIFAR10\n",
    "from src.plotting import imshow\n",
    "from model.CNN import CNN\n",
    "from src.train_predict import train, test_classification\n"
   ]
  },
  {
   "cell_type": "code",
   "execution_count": 2,
   "metadata": {},
   "outputs": [
    {
     "data": {
      "text/plain": [
       "'cuda'"
      ]
     },
     "execution_count": 2,
     "metadata": {},
     "output_type": "execute_result"
    }
   ],
   "source": [
    "device = \"cuda\" if torch.cuda.is_available() else \"cpu\"\n",
    "device"
   ]
  },
  {
   "cell_type": "code",
   "execution_count": 3,
   "metadata": {},
   "outputs": [],
   "source": [
    "batch_size = 4\n",
    "\n",
    "train_set, test_set = load_CIFAR10()\n",
    "train_dataloader = torch.utils.data.DataLoader(train_set, batch_size = batch_size, \\\n",
    "                                               shuffle = True, num_workers = 0)\n",
    "test_dataloader = torch.utils.data.DataLoader(test_set, batch_size = batch_size, \\\n",
    "                                               shuffle = True, num_workers = 0)"
   ]
  },
  {
   "cell_type": "code",
   "execution_count": 4,
   "metadata": {},
   "outputs": [],
   "source": [
    "classes = train_set.classes\n"
   ]
  },
  {
   "cell_type": "markdown",
   "metadata": {},
   "source": [
    "Training"
   ]
  },
  {
   "cell_type": "code",
   "execution_count": 5,
   "metadata": {},
   "outputs": [
    {
     "data": {
      "image/png": "[encoded data removed]",
      "text/plain": [
       "<Figure size 640x480 with 1 Axes>"
      ]
     },
     "metadata": {},
     "output_type": "display_data"
    },
    {
     "name": "stdout",
     "output_type": "stream",
     "text": [
      "<generator object <genexpr> at 0x000002295C1F1540>\n"
     ]
    }
   ],
   "source": [
    "dataiter = iter(train_dataloader)\n",
    "img, labels = next(dataiter)\n",
    "\n",
    "imshow(torchvision.utils.make_grid(img))\n",
    "print(\" \".join(f'{classes[labels[j]]}') for j in range(batch_size))\n"
   ]
  },
  {
   "cell_type": "code",
   "execution_count": 6,
   "metadata": {},
   "outputs": [
    {
     "data": {
      "text/plain": [
       "torch.Size([4, 3, 32, 32])"
      ]
     },
     "execution_count": 6,
     "metadata": {},
     "output_type": "execute_result"
    }
   ],
   "source": [
    "img.shape"
   ]
  },
  {
   "cell_type": "code",
   "execution_count": 7,
   "metadata": {},
   "outputs": [],
   "source": [
    "model = CNN(input_feature= 3, hidden_units= 10, output_feature= len(classes))\n",
    "\n",
    "model.to(device)\n",
    "\n",
    "criterion = nn.CrossEntropyLoss()\n",
    "optimizer = optim.SGD(model.parameters(), lr=0.005, momentum=0.9)\n"
   ]
  },
  {
   "cell_type": "code",
   "execution_count": 8,
   "metadata": {},
   "outputs": [
    {
     "name": "stdout",
     "output_type": "stream",
     "text": [
      "[1,  2000] loss: 1.943\n",
      "[1,  4000] loss: 1.741\n",
      "[1,  6000] loss: 1.713\n",
      "[1,  8000] loss: 1.654\n",
      "[1, 10000] loss: 1.661\n",
      "[1, 12000] loss: 1.649\n",
      "[2,  2000] loss: 1.612\n",
      "[2,  4000] loss: 1.608\n",
      "[2,  6000] loss: 1.625\n",
      "[2,  8000] loss: 1.600\n",
      "[2, 10000] loss: 1.611\n",
      "[2, 12000] loss: 1.589\n",
      "[3,  2000] loss: 1.560\n",
      "[3,  4000] loss: 1.573\n",
      "[3,  6000] loss: 1.578\n",
      "[3,  8000] loss: 1.578\n",
      "[3, 10000] loss: 1.568\n",
      "[3, 12000] loss: 1.561\n",
      "[4,  2000] loss: 1.528\n",
      "[4,  4000] loss: 1.547\n",
      "[4,  6000] loss: 1.560\n",
      "[4,  8000] loss: 1.569\n",
      "[4, 10000] loss: 1.550\n",
      "[4, 12000] loss: 1.537\n",
      "[5,  2000] loss: 1.500\n",
      "[5,  4000] loss: 1.549\n",
      "[5,  6000] loss: 1.513\n",
      "[5,  8000] loss: 1.540\n",
      "[5, 10000] loss: 1.540\n",
      "[5, 12000] loss: 1.532\n",
      "[6,  2000] loss: 1.518\n",
      "[6,  4000] loss: 1.548\n",
      "[6,  6000] loss: 1.535\n",
      "[6,  8000] loss: 1.520\n",
      "[6, 10000] loss: 1.528\n",
      "[6, 12000] loss: 1.517\n",
      "[7,  2000] loss: 1.497\n",
      "[7,  4000] loss: 1.505\n",
      "[7,  6000] loss: 1.502\n",
      "[7,  8000] loss: 1.539\n",
      "[7, 10000] loss: 1.502\n",
      "[7, 12000] loss: 1.521\n",
      "[8,  2000] loss: 1.524\n",
      "[8,  4000] loss: 1.489\n",
      "[8,  6000] loss: 1.528\n",
      "[8,  8000] loss: 1.511\n",
      "[8, 10000] loss: 1.500\n",
      "[8, 12000] loss: 1.497\n",
      "[9,  2000] loss: 1.493\n",
      "[9,  4000] loss: 1.504\n",
      "[9,  6000] loss: 1.524\n",
      "[9,  8000] loss: 1.519\n",
      "[9, 10000] loss: 1.529\n",
      "[9, 12000] loss: 1.501\n",
      "[10,  2000] loss: 1.496\n",
      "[10,  4000] loss: 1.509\n",
      "[10,  6000] loss: 1.496\n",
      "[10,  8000] loss: 1.514\n",
      "[10, 10000] loss: 1.508\n",
      "[10, 12000] loss: 1.480\n",
      "Finished Training\n"
     ]
    }
   ],
   "source": [
    "train(num_loops= 10, criterion= criterion, optim= optimizer, model= model, \\\n",
    "      train_dataloader= train_dataloader, device= device, path = \"CNN_cifar10.pth\")"
   ]
  },
  {
   "cell_type": "markdown",
   "metadata": {},
   "source": [
    "Testing"
   ]
  },
  {
   "cell_type": "code",
   "execution_count": 9,
   "metadata": {},
   "outputs": [
    {
     "data": {
      "text/plain": [
       "<All keys matched successfully>"
      ]
     },
     "execution_count": 9,
     "metadata": {},
     "output_type": "execute_result"
    }
   ],
   "source": [
    "model_pred = CNN(input_feature= 3, hidden_units= 10, output_feature= len(classes))\n",
    "model_pred.load_state_dict(torch.load(\"CNN_cifar10.pth\"))"
   ]
  },
  {
   "cell_type": "code",
   "execution_count": 10,
   "metadata": {},
   "outputs": [
    {
     "data": {
      "image/png": "[encoded data removed]",
      "text/plain": [
       "<Figure size 640x480 with 1 Axes>"
      ]
     },
     "metadata": {},
     "output_type": "display_data"
    },
    {
     "name": "stdout",
     "output_type": "stream",
     "text": [
      "Ground truth:  frog frog airplane deer\n",
      "Predict:  frog frog horse horse\n"
     ]
    }
   ],
   "source": [
    "dataiter = iter(test_dataloader)\n",
    "img, labels = next(dataiter)\n",
    "_, predicts = torch.max(model_pred(img), 1)\n",
    "\n",
    "\n",
    "imshow(torchvision.utils.make_grid(img))\n",
    "print(\"Ground truth: \", \" \".join(f\"{classes[labels[j]]}\" for j in range(batch_size)))\n",
    "print(\"Predict: \", \" \".join(f\"{classes[predicts[j]]}\" for j in range(batch_size)))\n"
   ]
  },
  {
   "cell_type": "code",
   "execution_count": 11,
   "metadata": {},
   "outputs": [
    {
     "name": "stdout",
     "output_type": "stream",
     "text": [
      "Accuracy of the network in the test dataset: 45 %\n",
      "Accuracy for class airplane: 22.9\n",
      "Accuracy for class automobile: 46.4\n",
      "Accuracy for class bird: 24.9\n",
      "Accuracy for class cat: 12.5\n",
      "Accuracy for class deer: 55.9\n",
      "Accuracy for class dog: 61.7\n",
      "Accuracy for class frog: 45.7\n",
      "Accuracy for class horse: 43.8\n",
      "Accuracy for class ship: 66.2\n",
      "Accuracy for class truck: 73.5\n"
     ]
    }
   ],
   "source": [
    "test_classification(model= model_pred, test_dataloader= test_dataloader, \\\n",
    "                    device= device, classes= classes)"
   ]
  }
 ],
 "metadata": {
  "kernelspec": {
   "display_name": "cvProb",
   "language": "python",
   "name": "python3"
  },
  "language_info": {
   "codemirror_mode": {
    "name": "ipython",
    "version": 3
   },
   "file_extension": ".py",
   "mimetype": "text/x-python",
   "name": "python",
   "nbconvert_exporter": "python",
   "pygments_lexer": "ipython3",
   "version": "3.12.2"
  }
 },
 "nbformat": 4,
 "nbformat_minor": 2
}
