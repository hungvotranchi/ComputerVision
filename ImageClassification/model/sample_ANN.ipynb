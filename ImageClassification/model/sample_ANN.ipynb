{
 "cells": [
  {
   "cell_type": "code",
   "execution_count": 1,
   "metadata": {},
   "outputs": [],
   "source": [
    "import torch\n",
    "import torchvision\n",
    "import torch.optim as optim\n",
    "import torch.nn as nn\n",
    "\n",
    "\n",
    "import sys\n",
    "sys.path.append(\"..\")\n",
    "from src.load_data import load_CIFAR10\n",
    "from src.preprocess import transform_CIFAR10\n",
    "from src.plotting import imshow\n",
    "from model.ANN import ANN\n",
    "from src.train_predict import train, test_classification\n"
   ]
  },
  {
   "cell_type": "code",
   "execution_count": 2,
   "metadata": {},
   "outputs": [
    {
     "data": {
      "text/plain": [
       "'cuda'"
      ]
     },
     "execution_count": 2,
     "metadata": {},
     "output_type": "execute_result"
    }
   ],
   "source": [
    "device = \"cuda\" if torch.cuda.is_available() else \"cpu\"\n",
    "device"
   ]
  },
  {
   "cell_type": "code",
   "execution_count": 3,
   "metadata": {},
   "outputs": [],
   "source": [
    "batch_size = 4\n",
    "\n",
    "train_set, test_set = load_CIFAR10(transform_CIFAR10())\n",
    "train_dataloader = torch.utils.data.DataLoader(train_set, batch_size = batch_size, \\\n",
    "                                               shuffle = True, num_workers = 0)\n",
    "test_dataloader = torch.utils.data.DataLoader(test_set, batch_size = batch_size, \\\n",
    "                                               shuffle = True, num_workers = 0)"
   ]
  },
  {
   "cell_type": "code",
   "execution_count": 4,
   "metadata": {},
   "outputs": [],
   "source": [
    "classes = train_set.classes\n"
   ]
  },
  {
   "cell_type": "markdown",
   "metadata": {},
   "source": [
    "Training"
   ]
  },
  {
   "cell_type": "code",
   "execution_count": 5,
   "metadata": {},
   "outputs": [
    {
     "data": {
      "image/png": "[encoded data removed]",
      "text/plain": [
       "<Figure size 640x480 with 1 Axes>"
      ]
     },
     "metadata": {},
     "output_type": "display_data"
    },
    {
     "name": "stdout",
     "output_type": "stream",
     "text": [
      "<generator object <genexpr> at 0x000002094EA3E420>\n"
     ]
    }
   ],
   "source": [
    "dataiter = iter(train_dataloader)\n",
    "img, labels = next(dataiter)\n",
    "\n",
    "imshow(torchvision.utils.make_grid(img))\n",
    "print(\" \".join(f'{classes[labels[j]]}') for j in range(batch_size))\n"
   ]
  },
  {
   "cell_type": "code",
   "execution_count": 6,
   "metadata": {},
   "outputs": [
    {
     "data": {
      "text/plain": [
       "torch.Size([4, 3, 32, 32])"
      ]
     },
     "execution_count": 6,
     "metadata": {},
     "output_type": "execute_result"
    }
   ],
   "source": [
    "img.shape"
   ]
  },
  {
   "cell_type": "code",
   "execution_count": 7,
   "metadata": {},
   "outputs": [],
   "source": [
    "model = ANN(input_feature=3072, output_feature= len(classes))\n",
    "\n",
    "model.to(device)\n",
    "\n",
    "criterion = nn.CrossEntropyLoss()\n",
    "optimizer = optim.SGD(model.parameters(), lr=0.001, momentum=0.9)\n"
   ]
  },
  {
   "cell_type": "code",
   "execution_count": 8,
   "metadata": {},
   "outputs": [
    {
     "name": "stdout",
     "output_type": "stream",
     "text": [
      "[1,  2000] loss: 1.947\n",
      "[1,  4000] loss: 1.850\n",
      "[1,  6000] loss: 1.817\n",
      "[1,  8000] loss: 1.803\n",
      "[1, 10000] loss: 1.779\n",
      "[1, 12000] loss: 1.792\n",
      "[2,  2000] loss: 1.769\n",
      "[2,  4000] loss: 1.776\n",
      "[2,  6000] loss: 1.772\n",
      "[2,  8000] loss: 1.752\n",
      "[2, 10000] loss: 1.765\n",
      "[2, 12000] loss: 1.755\n",
      "[3,  2000] loss: 1.738\n",
      "[3,  4000] loss: 1.748\n",
      "[3,  6000] loss: 1.735\n",
      "[3,  8000] loss: 1.748\n",
      "[3, 10000] loss: 1.746\n",
      "[3, 12000] loss: 1.758\n",
      "[4,  2000] loss: 1.734\n",
      "[4,  4000] loss: 1.726\n",
      "[4,  6000] loss: 1.717\n",
      "[4,  8000] loss: 1.749\n",
      "[4, 10000] loss: 1.737\n",
      "[4, 12000] loss: 1.745\n",
      "[5,  2000] loss: 1.696\n",
      "[5,  4000] loss: 1.737\n",
      "[5,  6000] loss: 1.732\n",
      "[5,  8000] loss: 1.715\n",
      "[5, 10000] loss: 1.746\n",
      "[5, 12000] loss: 1.744\n",
      "[6,  2000] loss: 1.715\n",
      "[6,  4000] loss: 1.735\n",
      "[6,  6000] loss: 1.714\n",
      "[6,  8000] loss: 1.717\n",
      "[6, 10000] loss: 1.720\n",
      "[6, 12000] loss: 1.733\n",
      "[7,  2000] loss: 1.719\n",
      "[7,  4000] loss: 1.713\n",
      "[7,  6000] loss: 1.726\n",
      "[7,  8000] loss: 1.728\n",
      "[7, 10000] loss: 1.707\n",
      "[7, 12000] loss: 1.710\n",
      "[8,  2000] loss: 1.722\n",
      "[8,  4000] loss: 1.718\n",
      "[8,  6000] loss: 1.712\n",
      "[8,  8000] loss: 1.692\n",
      "[8, 10000] loss: 1.714\n",
      "[8, 12000] loss: 1.724\n",
      "[9,  2000] loss: 1.719\n",
      "[9,  4000] loss: 1.704\n",
      "[9,  6000] loss: 1.718\n",
      "[9,  8000] loss: 1.701\n",
      "[9, 10000] loss: 1.702\n",
      "[9, 12000] loss: 1.722\n",
      "[10,  2000] loss: 1.708\n",
      "[10,  4000] loss: 1.714\n",
      "[10,  6000] loss: 1.690\n",
      "[10,  8000] loss: 1.695\n",
      "[10, 10000] loss: 1.706\n",
      "[10, 12000] loss: 1.710\n",
      "Finished Training\n"
     ]
    }
   ],
   "source": [
    "train(num_loops= 10, criterion= criterion, optim= optimizer, model= model, \\\n",
    "      train_dataloader= train_dataloader, device= device, path = \"ANN_cifar10.pth\")"
   ]
  },
  {
   "cell_type": "markdown",
   "metadata": {},
   "source": [
    "Testing"
   ]
  },
  {
   "cell_type": "code",
   "execution_count": 9,
   "metadata": {},
   "outputs": [
    {
     "data": {
      "text/plain": [
       "<All keys matched successfully>"
      ]
     },
     "execution_count": 9,
     "metadata": {},
     "output_type": "execute_result"
    }
   ],
   "source": [
    "model_pred = ANN(input_feature=3072, output_feature= len(classes))\n",
    "model_pred.load_state_dict(torch.load(\"ANN_cifar10.pth\"))"
   ]
  },
  {
   "cell_type": "code",
   "execution_count": 10,
   "metadata": {},
   "outputs": [
    {
     "data": {
      "image/png": "[encoded data removed]",
      "text/plain": [
       "<Figure size 640x480 with 1 Axes>"
      ]
     },
     "metadata": {},
     "output_type": "display_data"
    },
    {
     "name": "stdout",
     "output_type": "stream",
     "text": [
      "Ground truth:  deer bird deer bird\n",
      "Predict:  deer airplane horse bird\n"
     ]
    }
   ],
   "source": [
    "dataiter = iter(test_dataloader)\n",
    "img, labels = next(dataiter)\n",
    "_, predicts = torch.max(model_pred(img), 1)\n",
    "\n",
    "\n",
    "imshow(torchvision.utils.make_grid(img))\n",
    "print(\"Ground truth: \", \" \".join(f\"{classes[labels[j]]}\" for j in range(batch_size)))\n",
    "print(\"Predict: \", \" \".join(f\"{classes[predicts[j]]}\" for j in range(batch_size)))\n"
   ]
  },
  {
   "cell_type": "code",
   "execution_count": 11,
   "metadata": {},
   "outputs": [
    {
     "name": "stdout",
     "output_type": "stream",
     "text": [
      "Accuracy of the network in the test dataset: 39 %\n",
      "Accuracy for class airplane: 48.4\n",
      "Accuracy for class automobile: 48.4\n",
      "Accuracy for class bird: 20.3\n",
      "Accuracy for class cat: 30.8\n",
      "Accuracy for class deer: 24.7\n",
      "Accuracy for class dog: 29.0\n",
      "Accuracy for class frog: 49.5\n",
      "Accuracy for class horse: 46.9\n",
      "Accuracy for class ship: 57.3\n",
      "Accuracy for class truck: 43.0\n"
     ]
    }
   ],
   "source": [
    "test_classification(model= model_pred, test_dataloader= test_dataloader, \\\n",
    "                    device= device, classes= classes)"
   ]
  }
 ],
 "metadata": {
  "kernelspec": {
   "display_name": "cvProb",
   "language": "python",
   "name": "python3"
  },
  "language_info": {
   "codemirror_mode": {
    "name": "ipython",
    "version": 3
   },
   "file_extension": ".py",
   "mimetype": "text/x-python",
   "name": "python",
   "nbconvert_exporter": "python",
   "pygments_lexer": "ipython3",
   "version": "3.12.2"
  }
 },
 "nbformat": 4,
 "nbformat_minor": 2
}
